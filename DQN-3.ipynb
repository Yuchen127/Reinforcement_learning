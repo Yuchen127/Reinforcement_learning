{
 "cells": [
  {
   "cell_type": "code",
   "execution_count": 1,
   "id": "9e620552",
   "metadata": {},
   "outputs": [],
   "source": [
    "import gym\n",
    "from gym import Env\n",
    "from gym.spaces import Discrete, Box\n",
    "import numpy as np\n",
    "import random\n",
    "import matplotlib.pyplot as plt\n",
    "\n",
    "from tensorflow.keras.models import Sequential\n",
    "from tensorflow.keras.layers import Dense, Flatten\n",
    "from tensorflow.keras.optimizers import Adam\n",
    "from tensorflow.keras.callbacks import EarlyStopping,  ModelCheckpoint, TensorBoard, CSVLogger\n",
    "\n",
    "from rl.agents import DQNAgent\n",
    "from rl.policy import BoltzmannQPolicy\n",
    "from rl.memory import SequentialMemory"
   ]
  },
  {
   "cell_type": "code",
   "execution_count": 2,
   "id": "306060d6",
   "metadata": {},
   "outputs": [],
   "source": [
    "class ChargeEnv(Env):\n",
    "    def __init__(self):\n",
    "        # Actions we can take, down, stay, up\n",
    "        self.action_space = Discrete(3)\n",
    "        # Observation box\n",
    "        self.observation_space = Box(low=np.array([0]), high=np.array([100]))\n",
    "        # Set start SOC\n",
    "        self.state = 20 + random.randint(-3,3)\n",
    "        # Set max SOC\n",
    "        self.max_state = 100\n",
    "        # Set power\n",
    "        self.power = 20\n",
    "        # Set price data\n",
    "        self.priceArray = np.float32(np.array([36.22, 27.98, 4.6, 9.38, -0.43, 2.26, 4.02, 8.48, 18.73,\n",
    "                                               20.64, 22.99, 18.93, 16.67, 9.51, 3.59, 2.31, 2.78, 6.3, 14.18,\n",
    "                                               16.11, 21.42, 25.87, 30.71, 18.44]))\n",
    "        # Set current index\n",
    "        self.currentIndex = 0\n",
    "        self.currentprice = 0\n",
    "        # Set temp \n",
    "        self.temp = 0\n",
    "        self.change = 0\n",
    "        # Set median\n",
    "        self.mid = np.median(self.priceArray)\n",
    "        self.open = 0\n",
    "        \n",
    "    def step(self, action):\n",
    "        # Apply action\n",
    "        # 0 -1 = -1 sell\n",
    "        # 1 -1 = 0 hold\n",
    "        # 2 -1 = 1 buy \n",
    "        self.state += (action - 1) * self.power  \n",
    "        self.currentprice = self.priceArray[self.currentIndex]\n",
    "\n",
    "        \n",
    "        \n",
    "        if 100 < self.state < (self.max_state + self.power):\n",
    "            self.state = 100\n",
    "            action = 0\n",
    "        elif (0 - self.power) < self.state < 0:\n",
    "            self.state = 0\n",
    "            action = 2\n",
    "        \n",
    "        # Buy when state < 100 while approaching the end\n",
    "        if self.max_state == self.state and (len(self.priceArray) - 1) - self.currentIndex <= 1:\n",
    "            action = 2\n",
    "            \n",
    "        # Calculate reward    \n",
    "        # BUy\n",
    "        # Give plus reward when charge at low proce, and minus at high price, and 0 at hold\n",
    "        if self.currentprice < (self.mid - 2):\n",
    "            temp = abs(self.currentprice) * (action - 1) #* ((0.001 + self.max_state - self.state) / self.max_state)\n",
    "            \n",
    "            \n",
    "        # Sell\n",
    "        # Give minus reward when discharge at low proce, and plus at high price, and 0 at hold\n",
    "        elif self.currentprice > (self.mid + 2):\n",
    "            temp = -abs(self.currentprice) * (action - 1) #* ((0.001 + self.state) / self.max_state)\n",
    "            \n",
    "            \n",
    "        # Hold\n",
    "        # Give plus reward when hold in median price range, and 0 reward otherwise\n",
    "        else:\n",
    "            temp = abs(abs(action) - 1) * 0.001\n",
    "            \n",
    "        change += temp\n",
    "        reward = temp\n",
    "        \n",
    "\n",
    "\n",
    "        # Move to the next price\n",
    "        self.currentIndex += 1\n",
    "        \n",
    "        \n",
    "        # Set Low boundary and Up boundary\n",
    "        # Set end state\n",
    "        if self.currentIndex == len(self.priceArray)-1:\n",
    "            done = True\n",
    "            if self.state < 80:\n",
    "                reward = -1000\n",
    "        elif self.state <= -0 or self.state >= 100:\n",
    "            done = True\n",
    "            reward = -1000\n",
    "        else:\n",
    "            done = False       \n",
    "\n",
    "        \n",
    "\n",
    "        # Set placeholder for info\n",
    "        info = {}\n",
    "        \n",
    "        # Return step information\n",
    "        return self.state, reward, done, info\n",
    "\n",
    "    def render(self):\n",
    "        # Implement viz\n",
    "        pass\n",
    "    \n",
    "    def reset(self):\n",
    "        # Reset shower temperature\n",
    "        self.state = 20 + random.randint(-3,3)\n",
    "        # Set max SOC\n",
    "        self.max_state = 100\n",
    "        # Set power\n",
    "        self.power = 20\n",
    "        # Set price data\n",
    "        self.priceArray = np.float32(np.array([36.22, 27.98, 4.6, 9.38, -0.43, 2.26, 4.02, 8.48, 18.73,\n",
    "                                               20.64, 22.99, 18.93, 16.67, 9.51, 3.59, 2.31, 2.78, 6.3, 14.18,\n",
    "                                               16.11, 21.42, 25.87, 30.71, 18.44]))\n",
    "        # Set current index\n",
    "        self.currentIndex = 0\n",
    "        self.currentprice = 0\n",
    "        # Set temp \n",
    "        self.temp = 0\n",
    "        self.change = 0\n",
    "        # Set median\n",
    "        self.mid = np.median(self.priceArray)\n",
    "        self.open = 0\n",
    "        return self.state"
   ]
  },
  {
   "cell_type": "code",
   "execution_count": 3,
   "id": "0fbad91e",
   "metadata": {},
   "outputs": [
    {
     "name": "stderr",
     "output_type": "stream",
     "text": [
      "C:\\Users\\Yuche\\AppData\\Roaming\\Python\\Python39\\site-packages\\gym\\spaces\\box.py:73: UserWarning: \u001b[33mWARN: Box bound precision lowered by casting to float32\u001b[0m\n",
      "  logger.warn(\n"
     ]
    }
   ],
   "source": [
    "env = ChargeEnv()"
   ]
  },
  {
   "cell_type": "code",
   "execution_count": 4,
   "id": "ca77928a",
   "metadata": {},
   "outputs": [
    {
     "data": {
      "text/plain": [
       "array([22.723347], dtype=float32)"
      ]
     },
     "execution_count": 4,
     "metadata": {},
     "output_type": "execute_result"
    }
   ],
   "source": [
    "env.observation_space.sample()"
   ]
  },
  {
   "cell_type": "code",
   "execution_count": 5,
   "id": "552762b2",
   "metadata": {},
   "outputs": [
    {
     "name": "stdout",
     "output_type": "stream",
     "text": [
      "Episode:1 Score:-7.770964238577481 State:80\n",
      "Episode:2 Score:59.26626057405652 State:100\n",
      "Episode:3 Score:-1021.5201695520848 State:40\n",
      "Episode:4 Score:-1035.7138128341621 State:20\n",
      "Episode:5 Score:-1004.4587609432059 State:20\n",
      "Episode:6 Score:-1008.3474792587978 State:20\n",
      "Episode:7 Score:-995.6015696825987 State:40\n",
      "Episode:8 Score:3.8566295512932562 State:80\n",
      "Episode:9 Score:-1015.3876083809322 State:40\n",
      "Episode:10 Score:-1051.882654131251 State:42\n",
      "Episode:11 Score:49.79850429360093 State:100\n",
      "Episode:12 Score:48.52319086188734 State:100\n",
      "Episode:13 Score:24.934841618378762 State:100\n",
      "Episode:14 Score:44.70567005585433 State:100\n",
      "Episode:15 Score:-982.377748162232 State:0\n",
      "Episode:16 Score:-991.6736742015219 State:0\n",
      "Episode:17 Score:-40.29308317648828 State:80\n",
      "Episode:18 Score:-1010.7607481053358 State:0\n",
      "Episode:19 Score:-1013.035677367329 State:0\n",
      "Episode:20 Score:-1006.1093289513797 State:77\n",
      "Episode:21 Score:-972.4024512809807 State:0\n",
      "Episode:22 Score:-981.005925485869 State:40\n",
      "Episode:23 Score:-1008.6194209037566 State:40\n",
      "Episode:24 Score:-998.2081835838133 State:20\n",
      "Episode:25 Score:-49.13440157522737 State:80\n",
      "Episode:26 Score:-984.9733244670624 State:0\n",
      "Episode:27 Score:-1055.0608616552656 State:39\n",
      "Episode:28 Score:-1002.1620315477538 State:60\n",
      "Episode:29 Score:27.092260148066888 State:100\n",
      "Episode:30 Score:-1046.7153164488548 State:63\n",
      "Episode:31 Score:-1013.4663366858792 State:38\n",
      "Episode:32 Score:-946.0504010082489 State:0\n",
      "Episode:33 Score:-1056.1631322598082 State:57\n",
      "Episode:34 Score:-1012.5251275797731 State:20\n",
      "Episode:35 Score:-6.944755289857373 State:80\n",
      "Episode:36 Score:-14.678736114363668 State:100\n",
      "Episode:37 Score:23.148132921476964 State:100\n",
      "Episode:38 Score:-1010.9010095495778 State:60\n",
      "Episode:39 Score:-974.4565375307494 State:40\n",
      "Episode:40 Score:-41.852445972338316 State:80\n",
      "Episode:41 Score:-32.59506399263084 State:80\n",
      "Episode:42 Score:-996.6393757982642 State:0\n",
      "Episode:43 Score:-999.8857565779621 State:40\n",
      "Episode:44 Score:-29.45860356416881 State:100\n",
      "Episode:45 Score:-997.482979307943 State:20\n",
      "Episode:46 Score:-958.3016561323839 State:40\n",
      "Episode:47 Score:-16.070714725404383 State:100\n",
      "Episode:48 Score:13.85535527265311 State:80\n",
      "Episode:49 Score:-947.6739987614257 State:40\n",
      "Episode:50 Score:-2.7837503515821567 State:80\n",
      "Episode:51 Score:-29.753137424521444 State:80\n",
      "Episode:52 Score:11.655274355098616 State:80\n",
      "Episode:53 Score:-982.1586412030274 State:40\n",
      "Episode:54 Score:-47.344192421959036 State:80\n",
      "Episode:55 Score:-1005.3909840598947 State:0\n",
      "Episode:56 Score:-1072.8409906480617 State:40\n",
      "Episode:57 Score:-997.3577096021438 State:60\n",
      "Episode:58 Score:-1009.6708503650624 State:60\n",
      "Episode:59 Score:-1019.252233910709 State:19\n",
      "Episode:60 Score:-969.2683752863509 State:20\n",
      "Episode:61 Score:-991.592597063306 State:60\n",
      "Episode:62 Score:-973.3293955487806 State:40\n",
      "Episode:63 Score:-1007.0803745090491 State:20\n",
      "Episode:64 Score:-992.7078010681241 State:40\n",
      "Episode:65 Score:-39.81882978674351 State:80\n",
      "Episode:66 Score:-937.32181514 State:20\n",
      "Episode:67 Score:-980.2350670609766 State:0\n",
      "Episode:68 Score:9.835377534601694 State:80\n",
      "Episode:69 Score:-1025.7135849620681 State:20\n",
      "Episode:70 Score:-1027.1955206655698 State:60\n",
      "Episode:71 Score:-1019.0301497145605 State:42\n",
      "Episode:72 Score:-952.81345448659 State:0\n",
      "Episode:73 Score:-963.7108755838591 State:20\n",
      "Episode:74 Score:-935.462828642028 State:40\n",
      "Episode:75 Score:-1037.7198757161714 State:40\n",
      "Episode:76 Score:-986.6147313212878 State:40\n",
      "Episode:77 Score:-1024.193137849552 State:0\n",
      "Episode:78 Score:-1061.4675457904696 State:20\n",
      "Episode:79 Score:-1053.5069009061544 State:60\n",
      "Episode:80 Score:-1057.4823113722343 State:23\n",
      "Episode:81 Score:-995.1941571726411 State:40\n",
      "Episode:82 Score:-969.4910589725 State:60\n",
      "Episode:83 Score:14.669262803730373 State:80\n",
      "Episode:84 Score:-53.38338226282178 State:80\n",
      "Episode:85 Score:-7.460655677933097 State:100\n",
      "Episode:86 Score:8.035902787179356 State:100\n",
      "Episode:87 Score:-984.5651082707792 State:60\n",
      "Episode:88 Score:-1002.8746687055951 State:60\n",
      "Episode:89 Score:-970.3156879666113 State:0\n",
      "Episode:90 Score:-1016.694940818339 State:40\n",
      "Episode:91 Score:-1039.1569611235338 State:40\n",
      "Episode:92 Score:-39.86620391283035 State:80\n",
      "Episode:93 Score:9.71303597472132 State:100\n",
      "Episode:94 Score:-45.19228429665267 State:80\n",
      "Episode:95 Score:-27.570044629380696 State:80\n",
      "Episode:96 Score:-981.690636333549 State:40\n",
      "Episode:97 Score:56.6672016239828 State:100\n",
      "Episode:98 Score:-1044.1366949645478 State:40\n",
      "Episode:99 Score:-979.0930884486991 State:20\n",
      "Episode:100 Score:-971.9809774171215 State:20\n"
     ]
    }
   ],
   "source": [
    "episodes = 100\n",
    "for episode in range(1, episodes+1):\n",
    "    state = env.reset()\n",
    "    done = False\n",
    "    score = 0 \n",
    "    \n",
    "    while not done:\n",
    "        #env.render()\n",
    "        action = env.action_space.sample()\n",
    "        n_state, reward, done, info = env.step(action)\n",
    "        score+=reward\n",
    "    print('Episode:{} Score:{} State:{}'.format(episode, score, n_state))"
   ]
  },
  {
   "cell_type": "code",
   "execution_count": 6,
   "id": "e4bc362a",
   "metadata": {},
   "outputs": [],
   "source": [
    "states = env.observation_space.shape\n",
    "actions = env.action_space.n"
   ]
  },
  {
   "cell_type": "code",
   "execution_count": 7,
   "id": "4592ef26",
   "metadata": {},
   "outputs": [
    {
     "data": {
      "text/plain": [
       "3"
      ]
     },
     "execution_count": 7,
     "metadata": {},
     "output_type": "execute_result"
    }
   ],
   "source": [
    "actions"
   ]
  },
  {
   "cell_type": "code",
   "execution_count": 8,
   "id": "d2eabdac",
   "metadata": {},
   "outputs": [],
   "source": [
    "def build_model(states, actions):\n",
    "    model = Sequential()    \n",
    "    model.add(Dense(24, activation='relu', input_shape=states))\n",
    "    model.add(Dense(24, activation='relu'))\n",
    "    model.add(Dense(actions, activation='linear'))\n",
    "    return model"
   ]
  },
  {
   "cell_type": "code",
   "execution_count": 9,
   "id": "c197b9aa",
   "metadata": {},
   "outputs": [
    {
     "ename": "NameError",
     "evalue": "name 'model' is not defined",
     "output_type": "error",
     "traceback": [
      "\u001b[1;31m---------------------------------------------------------------------------\u001b[0m",
      "\u001b[1;31mNameError\u001b[0m                                 Traceback (most recent call last)",
      "\u001b[1;32m~\\AppData\\Local\\Temp\\ipykernel_24968\\990505923.py\u001b[0m in \u001b[0;36m<module>\u001b[1;34m\u001b[0m\n\u001b[0;32m      1\u001b[0m \u001b[1;31m# Apply when 'Sequential' object has no attribute '_compile_time_distribution_strategy'\u001b[0m\u001b[1;33m\u001b[0m\u001b[1;33m\u001b[0m\u001b[0m\n\u001b[1;32m----> 2\u001b[1;33m \u001b[1;32mdel\u001b[0m \u001b[0mmodel\u001b[0m\u001b[1;33m\u001b[0m\u001b[1;33m\u001b[0m\u001b[0m\n\u001b[0m",
      "\u001b[1;31mNameError\u001b[0m: name 'model' is not defined"
     ]
    }
   ],
   "source": [
    "# Apply when 'Sequential' object has no attribute '_compile_time_distribution_strategy'\n",
    "del model "
   ]
  },
  {
   "cell_type": "code",
   "execution_count": 10,
   "id": "2ce45bfe",
   "metadata": {},
   "outputs": [],
   "source": [
    "model = build_model(states, actions)"
   ]
  },
  {
   "cell_type": "code",
   "execution_count": 11,
   "id": "558918c9",
   "metadata": {},
   "outputs": [
    {
     "name": "stdout",
     "output_type": "stream",
     "text": [
      "Model: \"sequential\"\n",
      "_________________________________________________________________\n",
      " Layer (type)                Output Shape              Param #   \n",
      "=================================================================\n",
      " dense (Dense)               (None, 24)                48        \n",
      "                                                                 \n",
      " dense_1 (Dense)             (None, 24)                600       \n",
      "                                                                 \n",
      " dense_2 (Dense)             (None, 3)                 75        \n",
      "                                                                 \n",
      "=================================================================\n",
      "Total params: 723\n",
      "Trainable params: 723\n",
      "Non-trainable params: 0\n",
      "_________________________________________________________________\n"
     ]
    }
   ],
   "source": [
    "model.summary()"
   ]
  },
  {
   "cell_type": "code",
   "execution_count": 12,
   "id": "feafaf12",
   "metadata": {},
   "outputs": [],
   "source": [
    "def build_agent(model, actions):\n",
    "    policy = BoltzmannQPolicy()\n",
    "    memory = SequentialMemory(limit=50000, window_length=1)\n",
    "    dqn = DQNAgent(model=model, memory=memory, policy=policy, \n",
    "                  nb_actions=actions, nb_steps_warmup=100, target_model_update=1e-2)\n",
    "    return dqn"
   ]
  },
  {
   "cell_type": "code",
   "execution_count": 14,
   "id": "dfd500cb",
   "metadata": {},
   "outputs": [
    {
     "name": "stdout",
     "output_type": "stream",
     "text": [
      "Training for 50000 steps ...\n",
      "Interval 1 (0 steps performed)\n",
      "  250/10000 [..............................] - ETA: 1:12 - reward: -37.4824done, took 1.976 seconds\n"
     ]
    }
   ],
   "source": [
    "dqn = build_agent(model, actions)\n",
    "dqn.compile(Adam(lr=1e-4), metrics=['mse']) #mean squared error mse, mean absloute error mae.\n",
    "\n",
    "#my_callbacks = [\n",
    "    #EarlyStopping(patience=2),\n",
    "    #ModelCheckpoint(filepath='model.{epoch:02d}-{val_loss:.2f}.h5'),\n",
    "    #CSVLogger('training.log')]\n",
    "\n",
    "history = dqn.fit(env, nb_steps=50000, visualize=False, verbose=1)"
   ]
  },
  {
   "cell_type": "code",
   "execution_count": 15,
   "id": "19df7f54",
   "metadata": {},
   "outputs": [
    {
     "name": "stdout",
     "output_type": "stream",
     "text": [
      "Testing for 100 episodes ...\n",
      "Episode 1: reward: -943.341, steps: 23\n",
      "Episode 2: reward: -943.341, steps: 23\n",
      "Episode 3: reward: -942.254, steps: 23\n",
      "Episode 4: reward: -942.616, steps: 23\n",
      "Episode 5: reward: -943.341, steps: 23\n",
      "Episode 6: reward: -943.341, steps: 23\n",
      "Episode 7: reward: -943.341, steps: 23\n",
      "Episode 8: reward: -942.254, steps: 23\n",
      "Episode 9: reward: -943.341, steps: 23\n",
      "Episode 10: reward: -943.341, steps: 23\n",
      "Episode 11: reward: -943.341, steps: 23\n",
      "Episode 12: reward: -942.978, steps: 23\n",
      "Episode 13: reward: -942.616, steps: 23\n",
      "Episode 14: reward: -943.341, steps: 23\n",
      "Episode 15: reward: -943.341, steps: 23\n",
      "Episode 16: reward: -943.341, steps: 23\n",
      "Episode 17: reward: -942.616, steps: 23\n",
      "Episode 18: reward: -942.978, steps: 23\n",
      "Episode 19: reward: -942.616, steps: 23\n",
      "Episode 20: reward: -942.616, steps: 23\n",
      "Episode 21: reward: -943.341, steps: 23\n",
      "Episode 22: reward: -943.341, steps: 23\n",
      "Episode 23: reward: -942.978, steps: 23\n",
      "Episode 24: reward: -943.341, steps: 23\n",
      "Episode 25: reward: -942.254, steps: 23\n",
      "Episode 26: reward: -942.254, steps: 23\n",
      "Episode 27: reward: -942.978, steps: 23\n",
      "Episode 28: reward: -942.616, steps: 23\n",
      "Episode 29: reward: -943.341, steps: 23\n",
      "Episode 30: reward: -942.978, steps: 23\n",
      "Episode 31: reward: -943.341, steps: 23\n",
      "Episode 32: reward: -942.616, steps: 23\n",
      "Episode 33: reward: -942.978, steps: 23\n",
      "Episode 34: reward: -942.616, steps: 23\n",
      "Episode 35: reward: -943.341, steps: 23\n",
      "Episode 36: reward: -943.341, steps: 23\n",
      "Episode 37: reward: -942.616, steps: 23\n",
      "Episode 38: reward: -942.978, steps: 23\n",
      "Episode 39: reward: -943.341, steps: 23\n",
      "Episode 40: reward: -943.341, steps: 23\n",
      "Episode 41: reward: -943.341, steps: 23\n",
      "Episode 42: reward: -942.254, steps: 23\n",
      "Episode 43: reward: -942.616, steps: 23\n",
      "Episode 44: reward: -942.616, steps: 23\n",
      "Episode 45: reward: -942.254, steps: 23\n",
      "Episode 46: reward: -943.341, steps: 23\n",
      "Episode 47: reward: -942.978, steps: 23\n",
      "Episode 48: reward: -943.341, steps: 23\n",
      "Episode 49: reward: -943.341, steps: 23\n",
      "Episode 50: reward: -942.254, steps: 23\n",
      "Episode 51: reward: -942.978, steps: 23\n",
      "Episode 52: reward: -943.341, steps: 23\n",
      "Episode 53: reward: -943.341, steps: 23\n",
      "Episode 54: reward: -943.341, steps: 23\n",
      "Episode 55: reward: -942.254, steps: 23\n",
      "Episode 56: reward: -943.341, steps: 23\n",
      "Episode 57: reward: -943.341, steps: 23\n",
      "Episode 58: reward: -943.341, steps: 23\n",
      "Episode 59: reward: -942.254, steps: 23\n",
      "Episode 60: reward: -943.341, steps: 23\n",
      "Episode 61: reward: -942.616, steps: 23\n",
      "Episode 62: reward: -943.341, steps: 23\n",
      "Episode 63: reward: -942.616, steps: 23\n",
      "Episode 64: reward: -942.254, steps: 23\n",
      "Episode 65: reward: -943.341, steps: 23\n",
      "Episode 66: reward: -943.341, steps: 23\n",
      "Episode 67: reward: -943.341, steps: 23\n",
      "Episode 68: reward: -943.341, steps: 23\n",
      "Episode 69: reward: -943.341, steps: 23\n",
      "Episode 70: reward: -943.341, steps: 23\n",
      "Episode 71: reward: -942.254, steps: 23\n",
      "Episode 72: reward: -942.254, steps: 23\n",
      "Episode 73: reward: -942.254, steps: 23\n",
      "Episode 74: reward: -943.341, steps: 23\n",
      "Episode 75: reward: -943.341, steps: 23\n",
      "Episode 76: reward: -942.616, steps: 23\n",
      "Episode 77: reward: -942.616, steps: 23\n",
      "Episode 78: reward: -942.978, steps: 23\n",
      "Episode 79: reward: -942.254, steps: 23\n",
      "Episode 80: reward: -943.341, steps: 23\n",
      "Episode 81: reward: -942.254, steps: 23\n",
      "Episode 82: reward: -943.341, steps: 23\n",
      "Episode 83: reward: -943.341, steps: 23\n",
      "Episode 84: reward: -943.341, steps: 23\n",
      "Episode 85: reward: -943.341, steps: 23\n",
      "Episode 86: reward: -942.978, steps: 23\n",
      "Episode 87: reward: -943.341, steps: 23\n",
      "Episode 88: reward: -943.341, steps: 23\n",
      "Episode 89: reward: -943.341, steps: 23\n",
      "Episode 90: reward: -943.341, steps: 23\n",
      "Episode 91: reward: -942.254, steps: 23\n",
      "Episode 92: reward: -942.978, steps: 23\n",
      "Episode 93: reward: -943.341, steps: 23\n",
      "Episode 94: reward: -943.341, steps: 23\n",
      "Episode 95: reward: -943.341, steps: 23\n",
      "Episode 96: reward: -943.341, steps: 23\n",
      "Episode 97: reward: -942.978, steps: 23\n",
      "Episode 98: reward: -943.341, steps: 23\n",
      "Episode 99: reward: -943.341, steps: 23\n",
      "Episode 100: reward: -942.978, steps: 23\n",
      "-943.0078414209601\n"
     ]
    }
   ],
   "source": [
    "scores = dqn.test(env, nb_episodes=100, visualize=False)\n",
    "print(np.mean(scores.history['episode_reward']))"
   ]
  },
  {
   "cell_type": "code",
   "execution_count": null,
   "id": "0570f5e4",
   "metadata": {},
   "outputs": [],
   "source": [
    "#dqn.save_weights('dqn_weights.h5f', overwrite=True)"
   ]
  },
  {
   "cell_type": "code",
   "execution_count": null,
   "id": "6f826195",
   "metadata": {},
   "outputs": [],
   "source": [
    "print(history.history.keys())"
   ]
  }
 ],
 "metadata": {
  "kernelspec": {
   "display_name": "Python 3 (ipykernel)",
   "language": "python",
   "name": "python3"
  },
  "language_info": {
   "codemirror_mode": {
    "name": "ipython",
    "version": 3
   },
   "file_extension": ".py",
   "mimetype": "text/x-python",
   "name": "python",
   "nbconvert_exporter": "python",
   "pygments_lexer": "ipython3",
   "version": "3.9.12"
  }
 },
 "nbformat": 4,
 "nbformat_minor": 5
}
